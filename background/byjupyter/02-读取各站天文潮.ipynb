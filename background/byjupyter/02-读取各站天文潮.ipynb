{
 "cells": [
  {
   "cell_type": "code",
   "execution_count": 1,
   "metadata": {},
   "outputs": [],
   "source": [
    "import numpy as np\n",
    "import netCDF4 as nc\n",
    "import pandas as pd\n",
    "import numpy.ma as ma\n",
    "import matplotlib as mpl\n",
    "import matplotlib.pyplot as pltz\n",
    "import xarray as xar\n",
    "import rioxarray\n",
    "from sqlalchemy import create_engine\n",
    "from sqlalchemy.ext.automap import automap_base\n",
    "from sqlalchemy.orm import sessionmaker\n",
    "from sqlalchemy.orm import Mapped\n",
    "from sqlalchemy import ForeignKey, Sequence, MetaData\n",
    "from sqlalchemy import select, update\n",
    "from sqlalchemy.orm import mapped_column, DeclarativeBase\n",
    "from datetime import datetime"
   ]
  },
  {
   "cell_type": "code",
   "execution_count": 2,
   "metadata": {},
   "outputs": [],
   "source": [
    "import pathlib"
   ]
  },
  {
   "cell_type": "code",
   "execution_count": 5,
   "metadata": {},
   "outputs": [
    {
     "data": {
      "text/plain": [
       "'data\\\\1epme2_2023'"
      ]
     },
     "execution_count": 5,
     "metadata": {},
     "output_type": "execute_result"
    }
   ],
   "source": [
    "dir:str=r'./data/'\n",
    "file_name:str='1epme2_2023'\n",
    "pathlib.Path(dir)/file_name\n",
    "full_path:str=str(pathlib.Path(dir)/file_name)\n",
    "full_path"
   ]
  },
  {
   "cell_type": "code",
   "execution_count": 6,
   "metadata": {},
   "outputs": [
    {
     "name": "stdout",
     "output_type": "stream",
     "text": [
      "读取成功\n"
     ]
    }
   ],
   "source": [
    "with open(full_path,'rb') as f:\n",
    "    data=pd.read_table(f,sep='\\s+',encoding='unicode_escape',header=None,infer_datetime_format=False)\n",
    "    print('读取成功')"
   ]
  },
  {
   "cell_type": "code",
   "execution_count": 8,
   "metadata": {},
   "outputs": [
    {
     "data": {
      "text/html": [
       "<div>\n",
       "<style scoped>\n",
       "    .dataframe tbody tr th:only-of-type {\n",
       "        vertical-align: middle;\n",
       "    }\n",
       "\n",
       "    .dataframe tbody tr th {\n",
       "        vertical-align: top;\n",
       "    }\n",
       "\n",
       "    .dataframe thead th {\n",
       "        text-align: right;\n",
       "    }\n",
       "</style>\n",
       "<table border=\"1\" class=\"dataframe\">\n",
       "  <thead>\n",
       "    <tr style=\"text-align: right;\">\n",
       "      <th></th>\n",
       "      <th>0</th>\n",
       "      <th>1</th>\n",
       "      <th>2</th>\n",
       "      <th>3</th>\n",
       "      <th>4</th>\n",
       "      <th>5</th>\n",
       "      <th>6</th>\n",
       "      <th>7</th>\n",
       "      <th>8</th>\n",
       "      <th>9</th>\n",
       "      <th>...</th>\n",
       "      <th>14</th>\n",
       "      <th>15</th>\n",
       "      <th>16</th>\n",
       "      <th>17</th>\n",
       "      <th>18</th>\n",
       "      <th>19</th>\n",
       "      <th>20</th>\n",
       "      <th>21</th>\n",
       "      <th>22</th>\n",
       "      <th>23</th>\n",
       "    </tr>\n",
       "  </thead>\n",
       "  <tbody>\n",
       "    <tr>\n",
       "      <th>0</th>\n",
       "      <td>-4.58</td>\n",
       "      <td>-5.48</td>\n",
       "      <td>-6.62</td>\n",
       "      <td>-7.84</td>\n",
       "      <td>-8.87</td>\n",
       "      <td>-9.31</td>\n",
       "      <td>-8.98</td>\n",
       "      <td>-8.07</td>\n",
       "      <td>-6.83</td>\n",
       "      <td>-5.48</td>\n",
       "      <td>...</td>\n",
       "      <td>-5.89</td>\n",
       "      <td>-7.16</td>\n",
       "      <td>-8.40</td>\n",
       "      <td>-9.24</td>\n",
       "      <td>-9.35</td>\n",
       "      <td>-8.78</td>\n",
       "      <td>-7.75</td>\n",
       "      <td>-6.48</td>\n",
       "      <td>-5.24</td>\n",
       "      <td>-4.41</td>\n",
       "    </tr>\n",
       "    <tr>\n",
       "      <th>1</th>\n",
       "      <td>-4.23</td>\n",
       "      <td>-4.69</td>\n",
       "      <td>-5.55</td>\n",
       "      <td>-6.63</td>\n",
       "      <td>-7.81</td>\n",
       "      <td>-8.79</td>\n",
       "      <td>-9.18</td>\n",
       "      <td>-8.83</td>\n",
       "      <td>-7.92</td>\n",
       "      <td>-6.70</td>\n",
       "      <td>...</td>\n",
       "      <td>-4.88</td>\n",
       "      <td>-5.98</td>\n",
       "      <td>-7.26</td>\n",
       "      <td>-8.48</td>\n",
       "      <td>-9.28</td>\n",
       "      <td>-9.35</td>\n",
       "      <td>-8.75</td>\n",
       "      <td>-7.72</td>\n",
       "      <td>-6.47</td>\n",
       "      <td>-5.26</td>\n",
       "    </tr>\n",
       "    <tr>\n",
       "      <th>2</th>\n",
       "      <td>-4.46</td>\n",
       "      <td>-4.32</td>\n",
       "      <td>-4.79</td>\n",
       "      <td>-5.64</td>\n",
       "      <td>-6.71</td>\n",
       "      <td>-7.85</td>\n",
       "      <td>-8.78</td>\n",
       "      <td>-9.09</td>\n",
       "      <td>-8.68</td>\n",
       "      <td>-7.75</td>\n",
       "      <td>...</td>\n",
       "      <td>-4.18</td>\n",
       "      <td>-5.02</td>\n",
       "      <td>-6.16</td>\n",
       "      <td>-7.44</td>\n",
       "      <td>-8.63</td>\n",
       "      <td>-9.34</td>\n",
       "      <td>-9.32</td>\n",
       "      <td>-8.66</td>\n",
       "      <td>-7.59</td>\n",
       "      <td>-6.34</td>\n",
       "    </tr>\n",
       "    <tr>\n",
       "      <th>3</th>\n",
       "      <td>-5.16</td>\n",
       "      <td>-4.43</td>\n",
       "      <td>-4.37</td>\n",
       "      <td>-4.90</td>\n",
       "      <td>-5.79</td>\n",
       "      <td>-6.87</td>\n",
       "      <td>-7.98</td>\n",
       "      <td>-8.82</td>\n",
       "      <td>-9.02</td>\n",
       "      <td>-8.51</td>\n",
       "      <td>...</td>\n",
       "      <td>-3.86</td>\n",
       "      <td>-4.31</td>\n",
       "      <td>-5.24</td>\n",
       "      <td>-6.43</td>\n",
       "      <td>-7.71</td>\n",
       "      <td>-8.82</td>\n",
       "      <td>-9.40</td>\n",
       "      <td>-9.24</td>\n",
       "      <td>-8.48</td>\n",
       "      <td>-7.35</td>\n",
       "    </tr>\n",
       "    <tr>\n",
       "      <th>4</th>\n",
       "      <td>-6.09</td>\n",
       "      <td>-4.97</td>\n",
       "      <td>-4.37</td>\n",
       "      <td>-4.44</td>\n",
       "      <td>-5.08</td>\n",
       "      <td>-6.02</td>\n",
       "      <td>-7.11</td>\n",
       "      <td>-8.19</td>\n",
       "      <td>-8.90</td>\n",
       "      <td>-8.94</td>\n",
       "      <td>...</td>\n",
       "      <td>-3.98</td>\n",
       "      <td>-3.91</td>\n",
       "      <td>-4.52</td>\n",
       "      <td>-5.56</td>\n",
       "      <td>-6.79</td>\n",
       "      <td>-8.03</td>\n",
       "      <td>-9.02</td>\n",
       "      <td>-9.42</td>\n",
       "      <td>-9.08</td>\n",
       "      <td>-8.19</td>\n",
       "    </tr>\n",
       "  </tbody>\n",
       "</table>\n",
       "<p>5 rows × 24 columns</p>\n",
       "</div>"
      ],
      "text/plain": [
       "     0     1     2     3     4     5     6     7     8     9   ...    14  \\\n",
       "0 -4.58 -5.48 -6.62 -7.84 -8.87 -9.31 -8.98 -8.07 -6.83 -5.48  ... -5.89   \n",
       "1 -4.23 -4.69 -5.55 -6.63 -7.81 -8.79 -9.18 -8.83 -7.92 -6.70  ... -4.88   \n",
       "2 -4.46 -4.32 -4.79 -5.64 -6.71 -7.85 -8.78 -9.09 -8.68 -7.75  ... -4.18   \n",
       "3 -5.16 -4.43 -4.37 -4.90 -5.79 -6.87 -7.98 -8.82 -9.02 -8.51  ... -3.86   \n",
       "4 -6.09 -4.97 -4.37 -4.44 -5.08 -6.02 -7.11 -8.19 -8.90 -8.94  ... -3.98   \n",
       "\n",
       "     15    16    17    18    19    20    21    22    23  \n",
       "0 -7.16 -8.40 -9.24 -9.35 -8.78 -7.75 -6.48 -5.24 -4.41  \n",
       "1 -5.98 -7.26 -8.48 -9.28 -9.35 -8.75 -7.72 -6.47 -5.26  \n",
       "2 -5.02 -6.16 -7.44 -8.63 -9.34 -9.32 -8.66 -7.59 -6.34  \n",
       "3 -4.31 -5.24 -6.43 -7.71 -8.82 -9.40 -9.24 -8.48 -7.35  \n",
       "4 -3.91 -4.52 -5.56 -6.79 -8.03 -9.02 -9.42 -9.08 -8.19  \n",
       "\n",
       "[5 rows x 24 columns]"
      ]
     },
     "execution_count": 8,
     "metadata": {},
     "output_type": "execute_result"
    }
   ],
   "source": [
    "data.head()"
   ]
  },
  {
   "cell_type": "code",
   "execution_count": 17,
   "metadata": {},
   "outputs": [
    {
     "data": {
      "text/plain": [
       "-5.48"
      ]
     },
     "execution_count": 17,
     "metadata": {},
     "output_type": "execute_result"
    }
   ],
   "source": [
    "data.iloc[0,1]"
   ]
  },
  {
   "cell_type": "code",
   "execution_count": 10,
   "metadata": {},
   "outputs": [
    {
     "data": {
      "text/plain": [
       "<Arrow [2023-01-01T00:00:00+00:00]>"
      ]
     },
     "execution_count": 10,
     "metadata": {},
     "output_type": "execute_result"
    }
   ],
   "source": [
    "import arrow\n",
    "start_dt_ar:arrow.Arrow=arrow.get(2023,1,1,0,0)\n",
    "start_dt_ar"
   ]
  },
  {
   "cell_type": "code",
   "execution_count": 19,
   "metadata": {},
   "outputs": [],
   "source": [
    "index_days=0\n",
    "list_days=[]\n",
    "list_realdata=[]\n",
    "for day in range(data.shape[0]):\n",
    "    current_day_ar:arrow.Arrow=start_dt_ar.shift(days=day)\n",
    "    list_days.append(current_day_ar)\n",
    "    for hour in range(data.shape[1]):\n",
    "        current_day_dt_ar:arrow.Arrow=current_day_ar.shift(hours=hour)\n",
    "        temp_val=data.iloc[day,hour]\n",
    "        temp_={'dt':current_day_dt_ar,'val':temp_val}\n",
    "        list_realdata.append(temp_)   \n",
    "        \n",
    "    \n",
    "    "
   ]
  },
  {
   "cell_type": "code",
   "execution_count": 20,
   "metadata": {},
   "outputs": [
    {
     "data": {
      "text/plain": [
       "[{'dt': <Arrow [2023-01-01T00:00:00+00:00]>, 'val': -4.58},\n",
       " {'dt': <Arrow [2023-01-01T01:00:00+00:00]>, 'val': -5.48},\n",
       " {'dt': <Arrow [2023-01-01T02:00:00+00:00]>, 'val': -6.62},\n",
       " {'dt': <Arrow [2023-01-01T03:00:00+00:00]>, 'val': -7.84},\n",
       " {'dt': <Arrow [2023-01-01T04:00:00+00:00]>, 'val': -8.87}]"
      ]
     },
     "execution_count": 20,
     "metadata": {},
     "output_type": "execute_result"
    }
   ],
   "source": [
    "list_realdata[:5]"
   ]
  },
  {
   "cell_type": "code",
   "execution_count": 21,
   "metadata": {},
   "outputs": [
    {
     "data": {
      "text/html": [
       "<div>\n",
       "<style scoped>\n",
       "    .dataframe tbody tr th:only-of-type {\n",
       "        vertical-align: middle;\n",
       "    }\n",
       "\n",
       "    .dataframe tbody tr th {\n",
       "        vertical-align: top;\n",
       "    }\n",
       "\n",
       "    .dataframe thead th {\n",
       "        text-align: right;\n",
       "    }\n",
       "</style>\n",
       "<table border=\"1\" class=\"dataframe\">\n",
       "  <thead>\n",
       "    <tr style=\"text-align: right;\">\n",
       "      <th></th>\n",
       "      <th>0</th>\n",
       "      <th>1</th>\n",
       "      <th>2</th>\n",
       "      <th>3</th>\n",
       "      <th>4</th>\n",
       "      <th>5</th>\n",
       "      <th>6</th>\n",
       "      <th>7</th>\n",
       "      <th>8</th>\n",
       "      <th>9</th>\n",
       "      <th>...</th>\n",
       "      <th>14</th>\n",
       "      <th>15</th>\n",
       "      <th>16</th>\n",
       "      <th>17</th>\n",
       "      <th>18</th>\n",
       "      <th>19</th>\n",
       "      <th>20</th>\n",
       "      <th>21</th>\n",
       "      <th>22</th>\n",
       "      <th>23</th>\n",
       "    </tr>\n",
       "  </thead>\n",
       "  <tbody>\n",
       "    <tr>\n",
       "      <th>0</th>\n",
       "      <td>-4.58</td>\n",
       "      <td>-5.48</td>\n",
       "      <td>-6.62</td>\n",
       "      <td>-7.84</td>\n",
       "      <td>-8.87</td>\n",
       "      <td>-9.31</td>\n",
       "      <td>-8.98</td>\n",
       "      <td>-8.07</td>\n",
       "      <td>-6.83</td>\n",
       "      <td>-5.48</td>\n",
       "      <td>...</td>\n",
       "      <td>-5.89</td>\n",
       "      <td>-7.16</td>\n",
       "      <td>-8.40</td>\n",
       "      <td>-9.24</td>\n",
       "      <td>-9.35</td>\n",
       "      <td>-8.78</td>\n",
       "      <td>-7.75</td>\n",
       "      <td>-6.48</td>\n",
       "      <td>-5.24</td>\n",
       "      <td>-4.41</td>\n",
       "    </tr>\n",
       "    <tr>\n",
       "      <th>1</th>\n",
       "      <td>-4.23</td>\n",
       "      <td>-4.69</td>\n",
       "      <td>-5.55</td>\n",
       "      <td>-6.63</td>\n",
       "      <td>-7.81</td>\n",
       "      <td>-8.79</td>\n",
       "      <td>-9.18</td>\n",
       "      <td>-8.83</td>\n",
       "      <td>-7.92</td>\n",
       "      <td>-6.70</td>\n",
       "      <td>...</td>\n",
       "      <td>-4.88</td>\n",
       "      <td>-5.98</td>\n",
       "      <td>-7.26</td>\n",
       "      <td>-8.48</td>\n",
       "      <td>-9.28</td>\n",
       "      <td>-9.35</td>\n",
       "      <td>-8.75</td>\n",
       "      <td>-7.72</td>\n",
       "      <td>-6.47</td>\n",
       "      <td>-5.26</td>\n",
       "    </tr>\n",
       "    <tr>\n",
       "      <th>2</th>\n",
       "      <td>-4.46</td>\n",
       "      <td>-4.32</td>\n",
       "      <td>-4.79</td>\n",
       "      <td>-5.64</td>\n",
       "      <td>-6.71</td>\n",
       "      <td>-7.85</td>\n",
       "      <td>-8.78</td>\n",
       "      <td>-9.09</td>\n",
       "      <td>-8.68</td>\n",
       "      <td>-7.75</td>\n",
       "      <td>...</td>\n",
       "      <td>-4.18</td>\n",
       "      <td>-5.02</td>\n",
       "      <td>-6.16</td>\n",
       "      <td>-7.44</td>\n",
       "      <td>-8.63</td>\n",
       "      <td>-9.34</td>\n",
       "      <td>-9.32</td>\n",
       "      <td>-8.66</td>\n",
       "      <td>-7.59</td>\n",
       "      <td>-6.34</td>\n",
       "    </tr>\n",
       "    <tr>\n",
       "      <th>3</th>\n",
       "      <td>-5.16</td>\n",
       "      <td>-4.43</td>\n",
       "      <td>-4.37</td>\n",
       "      <td>-4.90</td>\n",
       "      <td>-5.79</td>\n",
       "      <td>-6.87</td>\n",
       "      <td>-7.98</td>\n",
       "      <td>-8.82</td>\n",
       "      <td>-9.02</td>\n",
       "      <td>-8.51</td>\n",
       "      <td>...</td>\n",
       "      <td>-3.86</td>\n",
       "      <td>-4.31</td>\n",
       "      <td>-5.24</td>\n",
       "      <td>-6.43</td>\n",
       "      <td>-7.71</td>\n",
       "      <td>-8.82</td>\n",
       "      <td>-9.40</td>\n",
       "      <td>-9.24</td>\n",
       "      <td>-8.48</td>\n",
       "      <td>-7.35</td>\n",
       "    </tr>\n",
       "    <tr>\n",
       "      <th>4</th>\n",
       "      <td>-6.09</td>\n",
       "      <td>-4.97</td>\n",
       "      <td>-4.37</td>\n",
       "      <td>-4.44</td>\n",
       "      <td>-5.08</td>\n",
       "      <td>-6.02</td>\n",
       "      <td>-7.11</td>\n",
       "      <td>-8.19</td>\n",
       "      <td>-8.90</td>\n",
       "      <td>-8.94</td>\n",
       "      <td>...</td>\n",
       "      <td>-3.98</td>\n",
       "      <td>-3.91</td>\n",
       "      <td>-4.52</td>\n",
       "      <td>-5.56</td>\n",
       "      <td>-6.79</td>\n",
       "      <td>-8.03</td>\n",
       "      <td>-9.02</td>\n",
       "      <td>-9.42</td>\n",
       "      <td>-9.08</td>\n",
       "      <td>-8.19</td>\n",
       "    </tr>\n",
       "  </tbody>\n",
       "</table>\n",
       "<p>5 rows × 24 columns</p>\n",
       "</div>"
      ],
      "text/plain": [
       "     0     1     2     3     4     5     6     7     8     9   ...    14  \\\n",
       "0 -4.58 -5.48 -6.62 -7.84 -8.87 -9.31 -8.98 -8.07 -6.83 -5.48  ... -5.89   \n",
       "1 -4.23 -4.69 -5.55 -6.63 -7.81 -8.79 -9.18 -8.83 -7.92 -6.70  ... -4.88   \n",
       "2 -4.46 -4.32 -4.79 -5.64 -6.71 -7.85 -8.78 -9.09 -8.68 -7.75  ... -4.18   \n",
       "3 -5.16 -4.43 -4.37 -4.90 -5.79 -6.87 -7.98 -8.82 -9.02 -8.51  ... -3.86   \n",
       "4 -6.09 -4.97 -4.37 -4.44 -5.08 -6.02 -7.11 -8.19 -8.90 -8.94  ... -3.98   \n",
       "\n",
       "     15    16    17    18    19    20    21    22    23  \n",
       "0 -7.16 -8.40 -9.24 -9.35 -8.78 -7.75 -6.48 -5.24 -4.41  \n",
       "1 -5.98 -7.26 -8.48 -9.28 -9.35 -8.75 -7.72 -6.47 -5.26  \n",
       "2 -5.02 -6.16 -7.44 -8.63 -9.34 -9.32 -8.66 -7.59 -6.34  \n",
       "3 -4.31 -5.24 -6.43 -7.71 -8.82 -9.40 -9.24 -8.48 -7.35  \n",
       "4 -3.91 -4.52 -5.56 -6.79 -8.03 -9.02 -9.42 -9.08 -8.19  \n",
       "\n",
       "[5 rows x 24 columns]"
      ]
     },
     "execution_count": 21,
     "metadata": {},
     "output_type": "execute_result"
    }
   ],
   "source": [
    "data.head()"
   ]
  },
  {
   "attachments": {},
   "cell_type": "markdown",
   "metadata": {},
   "source": [
    "#### 定义 `sqlalchemy` `model` 类"
   ]
  },
  {
   "cell_type": "code",
   "execution_count": 37,
   "metadata": {},
   "outputs": [],
   "source": [
    "from sqlalchemy import create_engine\n",
    "from sqlalchemy import Column, Date, Float, ForeignKey, Integer, text\n",
    "from sqlalchemy.dialects.mysql import DATETIME, INTEGER, TINYINT, VARCHAR\n",
    "from sqlalchemy.ext.declarative import declarative_base\n",
    "from sqlalchemy import ForeignKey, Sequence, MetaData, Table\n",
    "from sqlalchemy.orm import relationship, sessionmaker\n",
    "from datetime import datetime"
   ]
  },
  {
   "cell_type": "code",
   "execution_count": 24,
   "metadata": {},
   "outputs": [],
   "source": [
    "DATABASES = {\n",
    "    'default': {\n",
    "        'ENGINE': 'mysqldb',  # 数据库引擎\n",
    "        'NAME': 'surge_global_sys',  # 数据库名\n",
    "        'USER': 'root',  # 账号\n",
    "        'PASSWORD': '123456',\n",
    "        'HOST': '127.0.0.1',  # HOST\n",
    "        'POST': 3306,  # 端口\n",
    "        'OPTIONS': {\n",
    "            \"init_command\": \"SET foreign_key_checks = 0;\",\n",
    "        },\n",
    "    }\n",
    "}"
   ]
  },
  {
   "cell_type": "code",
   "execution_count": 48,
   "metadata": {},
   "outputs": [],
   "source": [
    "class DBConfig:\n",
    "    \"\"\"\n",
    "    DbConfig DB配置类\n",
    "    :version: 1.4\n",
    "    :date: 2020-02-11\n",
    "    \"\"\"\n",
    "\n",
    "    driver = 'mysql+mysqldb'\n",
    "    host = '127.0.0.1'\n",
    "    port = '3306'\n",
    "    username = 'root'\n",
    "    password = '123456'\n",
    "    database = 'surge_global_sys'\n",
    "    charset = 'utf8mb4'\n",
    "    table_name_prefix = ''\n",
    "    echo = False\n",
    "    pool_size = 100\n",
    "    max_overflow = 100\n",
    "    pool_recycle = 60\n",
    "\n",
    "    def get_url(self):\n",
    "        config = [\n",
    "            self.driver,\n",
    "            '://',\n",
    "            self.username,\n",
    "            ':',\n",
    "            self.password,\n",
    "            '@',\n",
    "            self.host,\n",
    "            ':',\n",
    "            self.port,\n",
    "            '/',\n",
    "            self.database,\n",
    "            '?charset=',\n",
    "            self.charset,\n",
    "        ]\n",
    "\n",
    "        return ''.join(config)"
   ]
  },
  {
   "cell_type": "code",
   "execution_count": 49,
   "metadata": {},
   "outputs": [],
   "source": [
    "class DbFactory:\n",
    "    \"\"\"\n",
    "        数据库工厂\n",
    "    \"\"\"\n",
    "\n",
    "    def __init__(self, db_mapping: str = 'default', engine_str: str = None, host: str = None, db_name: str = None,\n",
    "                 user: str = None,\n",
    "                 pwd: str = None):\n",
    "        db_options = DATABASES.get(db_mapping)\n",
    "        self.engine_str = engine_str if engine_str else db_options.get('ENGINE')\n",
    "        self.host = host if host else db_options.get('HOST')\n",
    "        self.db_name = db_name if db_name else db_options.get('NAME')\n",
    "        self.user = user if user else db_options.get('USER')\n",
    "        self.password = pwd if pwd else db_options.get('PASSWORD')\n",
    "        \n",
    "        config=DBConfig()\n",
    "        \n",
    "        self.engine = create_engine(\n",
    "            config.get_url(),\n",
    "            pool_size=config.pool_size,\n",
    "            max_overflow=config.max_overflow,\n",
    "            pool_recycle=config.pool_recycle,\n",
    "            echo=config.echo\n",
    "        )\n",
    "        self._session_def = sessionmaker(bind=self.engine)\n",
    "\n",
    "    @property\n",
    "    def Session(self) -> sessionmaker:\n",
    "        if self._session_def is None:\n",
    "            self._session_def = sessionmaker(bind=self.engine)\n",
    "        return self._session_def()"
   ]
  },
  {
   "cell_type": "code",
   "execution_count": 50,
   "metadata": {},
   "outputs": [],
   "source": [
    "engine = DbFactory().engine\n",
    "session=DbFactory().Session\n",
    "# # 生成基类\n",
    "# BaseMeta = declarative_base()\n",
    "# md = MetaData(bind=engine)  # 引用MetaData\n",
    "# metadata = BaseMeta.metadata"
   ]
  },
  {
   "cell_type": "code",
   "execution_count": 51,
   "metadata": {},
   "outputs": [],
   "source": [
    "class BaseMeta(DeclarativeBase):\n",
    "    pass"
   ]
  },
  {
   "cell_type": "code",
   "execution_count": 52,
   "metadata": {},
   "outputs": [],
   "source": [
    "class IIdModel(BaseMeta):\n",
    "    __abstract__ = True\n",
    "    id = Column(Integer, primary_key=True)\n",
    "\n",
    "\n",
    "class IDel(BaseMeta):\n",
    "    \"\"\"\n",
    "        软删除 抽象父类\n",
    "    \"\"\"\n",
    "    __abstract__ = True\n",
    "    is_del = Column(TINYINT(1), nullable=False, server_default=text(\"'0'\"), default=0)\n",
    "\n",
    "\n",
    "class IModel(BaseMeta):\n",
    "    \"\"\"\n",
    "        model 抽象父类，主要包含 创建及修改时间\n",
    "    \"\"\"\n",
    "    __abstract__ = True\n",
    "    gmt_create_time = Column(DATETIME(fsp=6), default=datetime.utcnow())\n",
    "    gmt_modify_time = Column(DATETIME(fsp=6), default=datetime.utcnow())\n",
    "\n",
    "class StationAstronomicTideRealDataModel(IIdModel, IDel, IModel):\n",
    "    \"\"\"\n",
    "        天文潮\n",
    "    \"\"\"\n",
    "    __tablename__ = 'station_astronomic_tide'\n",
    "    station_code = Column(VARCHAR(200), nullable=False)\n",
    "    forecast_dt = Column(DATETIME(fsp=2))\n",
    "    surge = Column(Float, nullable=False)"
   ]
  },
  {
   "cell_type": "code",
   "execution_count": 53,
   "metadata": {},
   "outputs": [
    {
     "data": {
      "text/plain": [
       "datetime.datetime(2023, 4, 6, 20, 48, 12, 310965, tzinfo=tzlocal())"
      ]
     },
     "execution_count": 53,
     "metadata": {},
     "output_type": "execute_result"
    }
   ],
   "source": [
    "arrow.now().datetime"
   ]
  },
  {
   "cell_type": "code",
   "execution_count": 54,
   "metadata": {},
   "outputs": [
    {
     "name": "stdout",
     "output_type": "stream",
     "text": [
      "写入epme2成功!\n"
     ]
    }
   ],
   "source": [
    "station_code='epme2'\n",
    "for temp_ in list_realdata:\n",
    "    temp_model=StationAstronomicTideRealDataModel(station_code=station_code,forecast_dt=temp_['dt'].datetime,surge=temp_['val'])\n",
    "    session.add(temp_model)\n",
    "session.commit()\n",
    "print(f'写入{station_code}成功!')\n",
    "    "
   ]
  },
  {
   "cell_type": "code",
   "execution_count": null,
   "metadata": {},
   "outputs": [],
   "source": []
  }
 ],
 "metadata": {
  "kernelspec": {
   "display_name": "new_oil_gdal_backup_221216",
   "language": "python",
   "name": "python3"
  },
  "language_info": {
   "codemirror_mode": {
    "name": "ipython",
    "version": 3
   },
   "file_extension": ".py",
   "mimetype": "text/x-python",
   "name": "python",
   "nbconvert_exporter": "python",
   "pygments_lexer": "ipython3",
   "version": "3.7.15"
  },
  "orig_nbformat": 4
 },
 "nbformat": 4,
 "nbformat_minor": 2
}
