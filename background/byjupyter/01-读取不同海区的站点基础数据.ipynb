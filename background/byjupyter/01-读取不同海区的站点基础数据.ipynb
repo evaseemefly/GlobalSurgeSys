{
 "cells": [
  {
   "cell_type": "code",
   "execution_count": 14,
   "metadata": {},
   "outputs": [],
   "source": [
    "import numpy as np\n",
    "import netCDF4 as nc\n",
    "import pandas as pd\n",
    "import numpy.ma as ma\n",
    "import matplotlib as mpl\n",
    "import matplotlib.pyplot as pltz\n",
    "import xarray as xar\n",
    "import rioxarray\n",
    "from sqlalchemy import create_engine\n",
    "from sqlalchemy.ext.automap import automap_base\n",
    "from sqlalchemy.orm import sessionmaker\n",
    "from sqlalchemy.orm import Mapped\n",
    "from sqlalchemy import ForeignKey, Sequence, MetaData\n",
    "from sqlalchemy.orm import mapped_column, DeclarativeBase\n",
    "from datetime import datetime"
   ]
  },
  {
   "cell_type": "code",
   "execution_count": 2,
   "metadata": {},
   "outputs": [],
   "source": [
    "full_path=r'./data/PacificOcean.csv'"
   ]
  },
  {
   "cell_type": "code",
   "execution_count": 4,
   "metadata": {},
   "outputs": [
    {
     "data": {
      "text/html": [
       "<div>\n",
       "<style scoped>\n",
       "    .dataframe tbody tr th:only-of-type {\n",
       "        vertical-align: middle;\n",
       "    }\n",
       "\n",
       "    .dataframe tbody tr th {\n",
       "        vertical-align: top;\n",
       "    }\n",
       "\n",
       "    .dataframe thead th {\n",
       "        text-align: right;\n",
       "    }\n",
       "</style>\n",
       "<table border=\"1\" class=\"dataframe\">\n",
       "  <thead>\n",
       "    <tr style=\"text-align: right;\">\n",
       "      <th></th>\n",
       "      <th>code</th>\n",
       "      <th>location</th>\n",
       "      <th>city</th>\n",
       "      <th>country</th>\n",
       "      <th>lat</th>\n",
       "      <th>lon</th>\n",
       "    </tr>\n",
       "  </thead>\n",
       "  <tbody>\n",
       "    <tr>\n",
       "      <th>0</th>\n",
       "      <td>waka</td>\n",
       "      <td>Wakkanai</td>\n",
       "      <td>稚内港-北海道稚内市</td>\n",
       "      <td>Japan</td>\n",
       "      <td>45.410000</td>\n",
       "      <td>141.690000</td>\n",
       "    </tr>\n",
       "    <tr>\n",
       "      <th>1</th>\n",
       "      <td>abas</td>\n",
       "      <td>Abashiri</td>\n",
       "      <td>网走港-北海道网走市</td>\n",
       "      <td>Japan</td>\n",
       "      <td>44.020000</td>\n",
       "      <td>144.290000</td>\n",
       "    </tr>\n",
       "    <tr>\n",
       "      <th>2</th>\n",
       "      <td>hana</td>\n",
       "      <td>Hanasaki</td>\n",
       "      <td>北海道根室市</td>\n",
       "      <td>Japan</td>\n",
       "      <td>43.280000</td>\n",
       "      <td>145.570000</td>\n",
       "    </tr>\n",
       "    <tr>\n",
       "      <th>3</th>\n",
       "      <td>kush</td>\n",
       "      <td>Kushiro</td>\n",
       "      <td>北海道钏路市</td>\n",
       "      <td>Japan</td>\n",
       "      <td>42.980000</td>\n",
       "      <td>144.370000</td>\n",
       "    </tr>\n",
       "    <tr>\n",
       "      <th>4</th>\n",
       "      <td>hako</td>\n",
       "      <td>Hakodate</td>\n",
       "      <td>北海道函馆市</td>\n",
       "      <td>Japan</td>\n",
       "      <td>41.780000</td>\n",
       "      <td>140.720000</td>\n",
       "    </tr>\n",
       "    <tr>\n",
       "      <th>...</th>\n",
       "      <td>...</td>\n",
       "      <td>...</td>\n",
       "      <td>...</td>\n",
       "      <td>...</td>\n",
       "      <td>...</td>\n",
       "      <td>...</td>\n",
       "    </tr>\n",
       "    <tr>\n",
       "      <th>168</th>\n",
       "      <td>stdpr</td>\n",
       "      <td>Salinas, Puerto Rico</td>\n",
       "      <td>萨莱纳</td>\n",
       "      <td>PuertoRico</td>\n",
       "      <td>17.949063</td>\n",
       "      <td>-66.225967</td>\n",
       "    </tr>\n",
       "    <tr>\n",
       "      <th>169</th>\n",
       "      <td>aracS</td>\n",
       "      <td>Arecibo</td>\n",
       "      <td>阿雷西博</td>\n",
       "      <td>PuertoRico</td>\n",
       "      <td>18.480500</td>\n",
       "      <td>-66.702400</td>\n",
       "    </tr>\n",
       "    <tr>\n",
       "      <th>170</th>\n",
       "      <td>gtdpr</td>\n",
       "      <td>Guayanilla, Puerto Rico</td>\n",
       "      <td>瓜亚尼亚港</td>\n",
       "      <td>PuertoRico</td>\n",
       "      <td>18.005219</td>\n",
       "      <td>-66.766697</td>\n",
       "    </tr>\n",
       "    <tr>\n",
       "      <th>171</th>\n",
       "      <td>maya</td>\n",
       "      <td>Mayaguez_PR</td>\n",
       "      <td>马亚圭斯</td>\n",
       "      <td>PuertoRico</td>\n",
       "      <td>18.217600</td>\n",
       "      <td>-67.158800</td>\n",
       "    </tr>\n",
       "    <tr>\n",
       "      <th>172</th>\n",
       "      <td>mona2</td>\n",
       "      <td>Mona_Island_PR</td>\n",
       "      <td>莫娜岛</td>\n",
       "      <td>USA</td>\n",
       "      <td>18.090000</td>\n",
       "      <td>-67.938300</td>\n",
       "    </tr>\n",
       "  </tbody>\n",
       "</table>\n",
       "<p>173 rows × 6 columns</p>\n",
       "</div>"
      ],
      "text/plain": [
       "      code                location         city     country        lat  \\\n",
       "0     waka                 Wakkanai  稚内港-北海道稚内市       Japan  45.410000   \n",
       "1     abas                 Abashiri  网走港-北海道网走市       Japan  44.020000   \n",
       "2     hana                 Hanasaki      北海道根室市       Japan  43.280000   \n",
       "3     kush                  Kushiro      北海道钏路市       Japan  42.980000   \n",
       "4     hako                 Hakodate      北海道函馆市       Japan  41.780000   \n",
       "..     ...                      ...         ...         ...        ...   \n",
       "168  stdpr     Salinas, Puerto Rico         萨莱纳  PuertoRico  17.949063   \n",
       "169  aracS                 Arecibo         阿雷西博  PuertoRico  18.480500   \n",
       "170  gtdpr  Guayanilla, Puerto Rico       瓜亚尼亚港  PuertoRico  18.005219   \n",
       "171   maya              Mayaguez_PR        马亚圭斯  PuertoRico  18.217600   \n",
       "172  mona2           Mona_Island_PR         莫娜岛         USA  18.090000   \n",
       "\n",
       "            lon  \n",
       "0    141.690000  \n",
       "1    144.290000  \n",
       "2    145.570000  \n",
       "3    144.370000  \n",
       "4    140.720000  \n",
       "..          ...  \n",
       "168  -66.225967  \n",
       "169  -66.702400  \n",
       "170  -66.766697  \n",
       "171  -67.158800  \n",
       "172  -67.938300  \n",
       "\n",
       "[173 rows x 6 columns]"
      ]
     },
     "execution_count": 4,
     "metadata": {},
     "output_type": "execute_result"
    }
   ],
   "source": [
    "with open(full_path,'rb') as f:\n",
    "    data=pd.read_csv(f,encoding='utf-8')\n",
    "data"
   ]
  },
  {
   "cell_type": "code",
   "execution_count": 5,
   "metadata": {},
   "outputs": [
    {
     "data": {
      "text/html": [
       "<div>\n",
       "<style scoped>\n",
       "    .dataframe tbody tr th:only-of-type {\n",
       "        vertical-align: middle;\n",
       "    }\n",
       "\n",
       "    .dataframe tbody tr th {\n",
       "        vertical-align: top;\n",
       "    }\n",
       "\n",
       "    .dataframe thead th {\n",
       "        text-align: right;\n",
       "    }\n",
       "</style>\n",
       "<table border=\"1\" class=\"dataframe\">\n",
       "  <thead>\n",
       "    <tr style=\"text-align: right;\">\n",
       "      <th></th>\n",
       "      <th>code</th>\n",
       "      <th>location</th>\n",
       "      <th>city</th>\n",
       "      <th>country</th>\n",
       "      <th>lat</th>\n",
       "      <th>lon</th>\n",
       "    </tr>\n",
       "  </thead>\n",
       "  <tbody>\n",
       "    <tr>\n",
       "      <th>0</th>\n",
       "      <td>waka</td>\n",
       "      <td>Wakkanai</td>\n",
       "      <td>稚内港-北海道稚内市</td>\n",
       "      <td>Japan</td>\n",
       "      <td>45.41</td>\n",
       "      <td>141.69</td>\n",
       "    </tr>\n",
       "    <tr>\n",
       "      <th>1</th>\n",
       "      <td>abas</td>\n",
       "      <td>Abashiri</td>\n",
       "      <td>网走港-北海道网走市</td>\n",
       "      <td>Japan</td>\n",
       "      <td>44.02</td>\n",
       "      <td>144.29</td>\n",
       "    </tr>\n",
       "    <tr>\n",
       "      <th>2</th>\n",
       "      <td>hana</td>\n",
       "      <td>Hanasaki</td>\n",
       "      <td>北海道根室市</td>\n",
       "      <td>Japan</td>\n",
       "      <td>43.28</td>\n",
       "      <td>145.57</td>\n",
       "    </tr>\n",
       "    <tr>\n",
       "      <th>3</th>\n",
       "      <td>kush</td>\n",
       "      <td>Kushiro</td>\n",
       "      <td>北海道钏路市</td>\n",
       "      <td>Japan</td>\n",
       "      <td>42.98</td>\n",
       "      <td>144.37</td>\n",
       "    </tr>\n",
       "    <tr>\n",
       "      <th>4</th>\n",
       "      <td>hako</td>\n",
       "      <td>Hakodate</td>\n",
       "      <td>北海道函馆市</td>\n",
       "      <td>Japan</td>\n",
       "      <td>41.78</td>\n",
       "      <td>140.72</td>\n",
       "    </tr>\n",
       "  </tbody>\n",
       "</table>\n",
       "</div>"
      ],
      "text/plain": [
       "   code location         city country    lat     lon\n",
       "0  waka  Wakkanai  稚内港-北海道稚内市   Japan  45.41  141.69\n",
       "1  abas  Abashiri  网走港-北海道网走市   Japan  44.02  144.29\n",
       "2  hana  Hanasaki      北海道根室市   Japan  43.28  145.57\n",
       "3  kush   Kushiro      北海道钏路市   Japan  42.98  144.37\n",
       "4  hako  Hakodate      北海道函馆市   Japan  41.78  140.72"
      ]
     },
     "execution_count": 5,
     "metadata": {},
     "output_type": "execute_result"
    }
   ],
   "source": [
    "data.head()"
   ]
  },
  {
   "cell_type": "code",
   "execution_count": 6,
   "metadata": {},
   "outputs": [
    {
     "data": {
      "text/plain": [
       "Index(['code', 'location ', 'city', 'country', 'lat', 'lon'], dtype='object')"
      ]
     },
     "execution_count": 6,
     "metadata": {},
     "output_type": "execute_result"
    }
   ],
   "source": [
    "data.columns"
   ]
  },
  {
   "cell_type": "code",
   "execution_count": 8,
   "metadata": {},
   "outputs": [
    {
     "data": {
      "text/plain": [
       "code               abas\n",
       "location       Abashiri\n",
       "city         网走港-北海道网走市\n",
       "country           Japan\n",
       "lat               44.02\n",
       "lon              144.29\n",
       "Name: 1, dtype: object"
      ]
     },
     "execution_count": 8,
     "metadata": {},
     "output_type": "execute_result"
    }
   ],
   "source": [
    "data.iloc[1]"
   ]
  },
  {
   "cell_type": "code",
   "execution_count": 11,
   "metadata": {},
   "outputs": [],
   "source": [
    "# 数据库的配置，配置借鉴自 django 的 settings 的结构\n",
    "DATABASES = {\n",
    "    'default': {\n",
    "        'ENGINE': 'mysqldb',  # 数据库引擎\n",
    "        'NAME': 'surge_global_sys',  # 数据库名\n",
    "        'USER': 'root',  # 账号\n",
    "        'PASSWORD': '123456',\n",
    "        'HOST': '127.0.0.1',  # HOST\n",
    "        'POST': 3306,  # 端口\n",
    "        'OPTIONS': {\n",
    "            \"init_command\": \"SET foreign_key_checks = 0;\",\n",
    "        },\n",
    "    },\n",
    "}"
   ]
  },
  {
   "attachments": {},
   "cell_type": "markdown",
   "metadata": {},
   "source": [
    "### 尝试将行政区域信息提取并写入 tb:region_info "
   ]
  },
  {
   "cell_type": "code",
   "execution_count": 17,
   "metadata": {},
   "outputs": [],
   "source": [
    "DEFAULT_COUNTRY_INDEX = -1"
   ]
  },
  {
   "cell_type": "code",
   "execution_count": 12,
   "metadata": {},
   "outputs": [],
   "source": [
    "class DbFactory:\n",
    "    \"\"\"\n",
    "        数据库工厂\n",
    "    \"\"\"\n",
    "\n",
    "    def __init__(self, db_mapping: str = 'default', engine_str: str = None, host: str = None, port: str = None,\n",
    "                 db_name: str = None,\n",
    "                 user: str = None,\n",
    "                 pwd: str = None):\n",
    "        \"\"\"\n",
    "            mysql 数据库 构造函数\n",
    "        :param db_mapping:\n",
    "        :param engine_str:\n",
    "        :param host:\n",
    "        :param port:\n",
    "        :param db_name:\n",
    "        :param user:\n",
    "        :param pwd:\n",
    "        \"\"\"\n",
    "        db_options = DATABASES.get(db_mapping)\n",
    "        self.engine_str = engine_str if engine_str else db_options.get('ENGINE')\n",
    "        self.host = host if host else db_options.get('HOST')\n",
    "        self.port = port if port else db_options.get('POST')\n",
    "        self.db_name = db_name if db_name else db_options.get('NAME')\n",
    "        self.user = user if user else db_options.get('USER')\n",
    "        self.password = pwd if pwd else db_options.get('PASSWORD')\n",
    "        # TypeError: Invalid argument(s) 'encoding' sent to create_engine(), using configuration MySQLDialect_mysqldb/QueuePool/Engine.  Please check that the keyword arguments are appropriate for this combination of components.\n",
    "        self.engine = create_engine(\n",
    "            f\"mysql+{self.engine_str}://{self.user}:{self.password}@{self.host}:{self.port}/{self.db_name}\",\n",
    "            pool_pre_ping=True, future=True)\n",
    "        self._session_def = sessionmaker(bind=self.engine)\n",
    "\n",
    "    @property\n",
    "    def Session(self) -> sessionmaker:\n",
    "        if self._session_def is None:\n",
    "            self._session_def = sessionmaker(bind=self.engine)\n",
    "        return self._session_def()"
   ]
  },
  {
   "cell_type": "code",
   "execution_count": 15,
   "metadata": {},
   "outputs": [],
   "source": [
    "class BaseMeta(DeclarativeBase):\n",
    "    pass\n",
    "\n",
    "\n",
    "class IIdModel(BaseMeta):\n",
    "    __abstract__ = True\n",
    "    id: Mapped[int] = mapped_column(primary_key=True)\n",
    "\n",
    "\n",
    "class IDel(BaseMeta):\n",
    "    \"\"\"\n",
    "        软删除 抽象父类\n",
    "    \"\"\"\n",
    "    __abstract__ = True\n",
    "    is_del: Mapped[int] = mapped_column(nullable=False, default=0)\n",
    "\n",
    "\n",
    "class IModel(BaseMeta):\n",
    "    \"\"\"\n",
    "        model 抽象父类，主要包含 创建及修改时间\n",
    "    \"\"\"\n",
    "    __abstract__ = True\n",
    "    gmt_create_time: Mapped[datetime] = mapped_column(default=datetime.utcnow)\n",
    "    gmt_modify_time: Mapped[datetime] = mapped_column(default=datetime.utcnow)\n"
   ]
  },
  {
   "cell_type": "code",
   "execution_count": 18,
   "metadata": {},
   "outputs": [],
   "source": [
    "class RegionInfo(IIdModel, IDel, IModel):\n",
    "    \"\"\"\n",
    "        行政区划表\n",
    "    \"\"\"\n",
    "    location: Mapped[str] = mapped_column()\n",
    "    city: Mapped[str] = mapped_column()\n",
    "    city_name_ch: Mapped[str] = mapped_column()\n",
    "    country: Mapped[int] = mapped_column(nullable=False, default=DEFAULT_COUNTRY_INDEX)\n",
    "    __tablename__ = 'region_info'"
   ]
  },
  {
   "cell_type": "code",
   "execution_count": 22,
   "metadata": {},
   "outputs": [
    {
     "data": {
      "text/plain": [
       "6"
      ]
     },
     "execution_count": 22,
     "metadata": {},
     "output_type": "execute_result"
    }
   ],
   "source": [
    "num_columns=data.shape[1]\n",
    "num_columns"
   ]
  },
  {
   "cell_type": "code",
   "execution_count": 23,
   "metadata": {},
   "outputs": [
    {
     "data": {
      "text/plain": [
       "173"
      ]
     },
     "execution_count": 23,
     "metadata": {},
     "output_type": "execute_result"
    }
   ],
   "source": [
    "num_rows=data.shape[0]\n",
    "num_rows"
   ]
  },
  {
   "cell_type": "code",
   "execution_count": 24,
   "metadata": {},
   "outputs": [
    {
     "data": {
      "text/plain": [
       "code               waka\n",
       "location       Wakkanai\n",
       "city         稚内港-北海道稚内市\n",
       "country           Japan\n",
       "lat               45.41\n",
       "lon              141.69\n",
       "Name: 0, dtype: object"
      ]
     },
     "execution_count": 24,
     "metadata": {},
     "output_type": "execute_result"
    }
   ],
   "source": [
    "data.iloc[0]"
   ]
  },
  {
   "cell_type": "code",
   "execution_count": 29,
   "metadata": {},
   "outputs": [
    {
     "data": {
      "text/plain": [
       "pandas.core.series.Series"
      ]
     },
     "execution_count": 29,
     "metadata": {},
     "output_type": "execute_result"
    }
   ],
   "source": [
    "type(data.iloc[0])"
   ]
  },
  {
   "cell_type": "code",
   "execution_count": 34,
   "metadata": {},
   "outputs": [
    {
     "data": {
      "text/plain": [
       "45.41"
      ]
     },
     "execution_count": 34,
     "metadata": {},
     "output_type": "execute_result"
    }
   ],
   "source": [
    "data.iloc[0].loc['lat']"
   ]
  },
  {
   "cell_type": "code",
   "execution_count": 39,
   "metadata": {},
   "outputs": [
    {
     "data": {
      "text/plain": [
       "{'Australia',\n",
       " 'CostaRica',\n",
       " 'ElSalvador',\n",
       " 'Fiji Islands',\n",
       " 'France',\n",
       " 'IndependentStateofWesternSamoa',\n",
       " 'Japan',\n",
       " 'Mexico',\n",
       " 'NewZealand',\n",
       " 'Nicaragua',\n",
       " 'PapuaNewGuinea',\n",
       " 'Philippines',\n",
       " 'PuertoRico',\n",
       " 'SolomonIslands',\n",
       " 'SouthernKorea',\n",
       " 'U.S.A.Samoa',\n",
       " 'USA',\n",
       " 'Vanuatu',\n",
       " 'Viet Nam'}"
      ]
     },
     "execution_count": 39,
     "metadata": {},
     "output_type": "execute_result"
    }
   ],
   "source": [
    "set(data['country'].tolist())"
   ]
  },
  {
   "cell_type": "code",
   "execution_count": null,
   "metadata": {},
   "outputs": [],
   "source": [
    "for index in range(num_rows):\n",
    "    series_column=data.iloc[index]\n",
    "    region_model=RegionInfo(location=series_column.loc['location'],city=series_column.loc['location'],city_name_ch='',)"
   ]
  }
 ],
 "metadata": {
  "kernelspec": {
   "display_name": "new_oil_gdal_backup_221216",
   "language": "python",
   "name": "python3"
  },
  "language_info": {
   "codemirror_mode": {
    "name": "ipython",
    "version": 3
   },
   "file_extension": ".py",
   "mimetype": "text/x-python",
   "name": "python",
   "nbconvert_exporter": "python",
   "pygments_lexer": "ipython3",
   "version": "3.7.15"
  },
  "orig_nbformat": 4,
  "vscode": {
   "interpreter": {
    "hash": "f0d2e8e83193cdc016e35afdbcdd562181799656e671290e4421e0306e0353a0"
   }
  }
 },
 "nbformat": 4,
 "nbformat_minor": 2
}
